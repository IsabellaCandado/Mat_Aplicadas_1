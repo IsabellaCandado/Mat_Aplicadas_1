{
  "nbformat": 4,
  "nbformat_minor": 0,
  "metadata": {
    "colab": {
      "provenance": [],
      "authorship_tag": "ABX9TyMvPH3DE6TxFONGXOTW1XHt",
      "include_colab_link": true
    },
    "kernelspec": {
      "name": "python3",
      "display_name": "Python 3"
    },
    "language_info": {
      "name": "python"
    }
  },
  "cells": [
    {
      "cell_type": "markdown",
      "metadata": {
        "id": "view-in-github",
        "colab_type": "text"
      },
      "source": [
        "<a href=\"https://colab.research.google.com/github/IsabellaCandado/Mat_Aplicadas_1/blob/main/Reconocimiento2.ipynb\" target=\"_parent\"><img src=\"https://colab.research.google.com/assets/colab-badge.svg\" alt=\"Open In Colab\"/></a>"
      ]
    },
    {
      "cell_type": "code",
      "execution_count": null,
      "metadata": {
        "id": "pUFIDuTgoBTN"
      },
      "outputs": [],
      "source": []
    },
    {
      "cell_type": "markdown",
      "source": [
        "#<font color=\"E9967A\"> ***Autobiografía*** </font>\n",
        "\n",
        "Soy Isabella Candado Conde, tengo 17 años. Nací en la ciudad de Guadalajara de Buga, pero actualmente estoy viviendo en Cali. Mi familia vive en mi ciudad natal y está conformada por mi mamá, papá, hermana menor y abuela. Estoy estudiando **Ingeniería en Sistemas** en la *Universidad Icesi*. Me gradué de la *IE Narciso Cabal Salcedo* como **Bachiller en Informática**."
      ],
      "metadata": {
        "id": "40EWu7TnoFXI"
      }
    }
  ]
}