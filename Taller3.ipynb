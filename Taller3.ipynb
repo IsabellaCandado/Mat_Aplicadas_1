{
  "nbformat": 4,
  "nbformat_minor": 0,
  "metadata": {
    "colab": {
      "provenance": [],
      "authorship_tag": "ABX9TyMYYorGU1x1KSowcj55eBkn",
      "include_colab_link": true
    },
    "kernelspec": {
      "name": "python3",
      "display_name": "Python 3"
    },
    "language_info": {
      "name": "python"
    }
  },
  "cells": [
    {
      "cell_type": "markdown",
      "metadata": {
        "id": "view-in-github",
        "colab_type": "text"
      },
      "source": [
        "<a href=\"https://colab.research.google.com/github/IsabellaCandado/Mat_Aplicadas_1/blob/main/Taller3.ipynb\" target=\"_parent\"><img src=\"https://colab.research.google.com/assets/colab-badge.svg\" alt=\"Open In Colab\"/></a>"
      ]
    },
    {
      "cell_type": "markdown",
      "source": [
        "## <font color=\"9e4300\">***Taller #3*** </font>\n",
        "*Presentado por: Juan Diego Balanta, Isabella Candado, Edward Estacio y Juan Pablo Martínez*"
      ],
      "metadata": {
        "id": "CqmN4YuLbJU8"
      }
    },
    {
      "cell_type": "code",
      "source": [
        "import numpy as np\n",
        "import math as mt\n",
        "import sympy as sym\n",
        "import matplotlib.pyplot as plt"
      ],
      "metadata": {
        "id": "OLJemu9lcn10"
      },
      "execution_count": 1,
      "outputs": []
    },
    {
      "cell_type": "markdown",
      "source": [
        "###### <font color=\"c75400\"> **1.** </font> **Término $n$-ésimo**\n",
        "Para cada una de las siguientes sucesiones, encuentre una expresión general para el término $n$-ésimo.\n"
      ],
      "metadata": {
        "id": "zYyVicIica61"
      }
    },
    {
      "cell_type": "markdown",
      "source": [
        "<font color=\"ff862d\"> **a.** </font>  $\\{1,\\frac{1}{3},\\frac{1}{9},\\frac{1}{27},\\dotsb\\}$\n",
        "\n",
        ">*Respuesta:*    \n",
        "  $a_n = \\frac{1}{3^{n-1}}$\n",
        "\n",
        "----\n",
        "\n",
        "<font color=\"ff862d\"> **b.** </font>  $\\{1,\\frac{1}{2},\\frac{1}{3},\\frac{1}{4},\\dotsb\\}$\n",
        "\n",
        ">*Respuesta:*    \n",
        "  $a_n = \\frac{1}{n}$\n",
        "\n",
        "----\n",
        "\n",
        "<font color=\"ff862d\"> **c.** </font>  $\\{1,\\frac{3}{2},\\frac{5}{3},\\frac{7}{4},\\dotsb\\}$\n",
        "\n",
        ">*Respuesta:*    \n",
        "  $a_n = \\frac{2n-1}{n}$\n",
        "\n",
        "----\n",
        "\n",
        "<font color=\"ff862d\"> **d.** </font>  $\\{-\\frac{1}{3},\\frac{1}{5},-\\frac{1}{7},\\frac{1}{9},\\dotsb\\}$\n",
        "\n",
        ">*Respuesta:*    \n",
        "  $a_n = \\frac{(-1)^{n}}{2n+1}$"
      ],
      "metadata": {
        "id": "Razxwa-3y1YD"
      }
    },
    {
      "cell_type": "markdown",
      "source": [
        "###### <font color=\"c75400\"> **2.** </font> **Sucesiones convergentes y divergentes**\n",
        "Decida si las sucesiones convergen o divergen. Si convergen, encuentre su límite.\n"
      ],
      "metadata": {
        "id": "xdAqZllBllPy"
      }
    },
    {
      "cell_type": "markdown",
      "source": [
        "<font color=\"ff862d\"> **a.** </font>  $a_n=\\frac{1}{3^n}, n=0,1,2,\\dotsb$\n",
        "> La sucesión es **convergente**. Su límite es $0$, porque el grado del denominador es mayor al del numerador.\n",
        "\n",
        "---\n",
        "\n",
        "<font color=\"ff862d\"> **b.** </font>  $a_n=\\pi^n, n=0,1,2,\\dotsb$\n",
        ">La sucesión es **divergente**. Es exponencial, así que crece infinitamente y no tiende a un punto.\n",
        "\n",
        "---\n",
        "\n",
        " <font color=\"ff862d\"> **c.** </font>  $b_n=\\frac{3n-1}{2n+6}, n=1,2,3,\\dotsb$\n",
        ">La sucesión es **convergente**. Su límite es $\\frac{3}{2}$, porque el denominador y el numerador tienen el mismo grado, así que el límite es la razón entre los coeficientes principales.\n",
        "\n",
        "---\n",
        "\n",
        " <font color=\"ff862d\"> **d.** </font>  $c_n=\\cos(\\pi n), n=0,1,2,\\dotsb$\n",
        ">La sucesión es **divergente**.\n",
        "\n",
        "---\n",
        "\n",
        " <font color=\"ff862d\"> **e.** </font>  $a_n=\\frac{3n^4-6n^3+1}{5n^3+n^2+2}, n=1,2,3,\\dotsb$\n",
        ">La sucesión es **divergente**. El numerador tiene un grado mayor al del denominador.\n",
        "\n",
        "---\n",
        "\n",
        " <font color=\"ff862d\"> **f.** </font>  $b_n=\\frac{2n^5-3n^2+23}{7n^5+13n^4-12}, n=1,2,3,\\dotsb$\n",
        "> La sucesión es **convergente**. Su límite es $\\frac{2}{7}$, porque el denominador y el numerador tienen el mismo grado, así que el límite es la razón entre los coeficientes principales.\n",
        "\n",
        "---\n",
        "\n",
        " <font color=\"ff862d\"> **g.** </font>  $b_n=\\frac{45-16n^2}{13+5n+6n^3}, n=1,2,3,\\dotsb$\n",
        "> La sucesión es **convergente**. Su límite es $0$,\n",
        " porque el grado del denominador es mayor al del numerador.\n",
        "\n",
        "---\n",
        "\n",
        " <font color=\"ff862d\"> **h.** </font>  $b_n=\\frac{3n+1}{\\sqrt{4n^2+1}}, n=1,2,3,\\dotsb$\n",
        "> La sucesión es **convergente**. Su límite es $\\frac{3}{2}$, porque el denominador y el numerador tienen el mismo grado, así que el límite es la razón entre los coeficientes principales.\n",
        "\n",
        "---\n",
        "\n",
        " <font color=\"ff862d\"> **i.** </font>  $a_n=(-2)^{2n+1}, n=1,2,3,\\dotsb$\n",
        "> La sucesión es **divergente**. Es exponencial, así que decrece infinitamente y no tiende a un punto.\n",
        "\n",
        "\n",
        "---\n",
        "\n",
        " <font color=\"ff862d\"> **j.** </font>  $a_n=\\frac{10-16n^3}{1+n^2}, n=1,2,3,\\dotsb$\n",
        "> La sucesión es **divergente**. El numerador tiene un grado mayor al del denominador.\n",
        "\n",
        "---\n",
        "\n",
        " <font color=\"ff862d\"> **k.** </font>  $a_n=\\sqrt{\\frac{3n^2+n-6}{5n^2+16}}, n=1,2,3,\\dotsb$\n",
        "> La sucesión es **convergente**. Su límite es $\\frac{\\sqrt{15}}{5}$, porque el denominador y el numerador tienen el mismo grado, así que el límite es la razón entre los coeficientes principales.\n",
        "\n",
        ">>*Proceso:*\n",
        "$\\frac{\\sqrt{3}}{\\sqrt{5}}=\n",
        "\\frac{\\sqrt{3}}{\\sqrt{5}}*\\frac{\\sqrt{5}}{\\sqrt{5}}=\\frac{\\sqrt{3}*\\sqrt{5}}{\\sqrt{5}^2}=\\frac{\\sqrt{3*5}}{5}=\\frac{\\sqrt{15}}{5}$\n",
        "\n",
        "---\n",
        "\n",
        " <font color=\"ff862d\"> **l.** </font>  $b_n=\\frac{(-1)^n}{5^n}, n=0,1,2,\\dotsb$\n",
        "> La sucesión es **convergente**. Su límite es $0$, porque a medida que $n$ aumenta, el denominador crece en mayor medida que el numerador."
      ],
      "metadata": {
        "id": "zMEI6TXMyK-q"
      }
    },
    {
      "cell_type": "markdown",
      "source": [
        "##### <font color=\"c75400\"> **3.** </font> **Explica por qué**\n",
        "$$-\\frac{1}{n}\\le \\frac{\\sin(n)}{n}\\le\\frac{1}{n}$$\n",
        "para los valores de $n=1,2,3,\\dots$"
      ],
      "metadata": {
        "id": "Yc8at1IoXauy"
      }
    },
    {
      "cell_type": "markdown",
      "source": [
        "######<font color=\"ff862d\"> **a.** </font> Explicación:\n",
        "> ..."
      ],
      "metadata": {
        "id": "vGhnW5MdYlM6"
      }
    },
    {
      "cell_type": "markdown",
      "source": [
        "######<font color=\"ff862d\"> **b.** </font> ¿Qué puede concluir del $\\lim_{n\\to\\infty}\\frac{\\sin(n)}{n}$\n",
        "> Se puede concluir que el limite de $\\lim_{n \\to \\infty} \\frac{\\sin(n)}{n}$ es $0$, debido a que la función está acotada entre $-\\frac{1}{n}$ y $\\frac{1}{n}$ y como los limites de estas acotaciones son $0$ por lo tanto $\\lim_{n \\to \\infty} \\frac{\\sin(n)}{n}=0$"
      ],
      "metadata": {
        "id": "GSqrnDSYZAmg"
      }
    },
    {
      "cell_type": "code",
      "source": [
        "n_valores = np.arange(1, 101)\n",
        "\n",
        "sin_n = np.sin(n_valores) / n_valores\n",
        "\n",
        "plt.plot(n_valores, sin_n,'.')\n",
        "plt.axhline(0, color='r', linestyle='-')\n",
        "plt.title(r'$\\lim_{n \\to \\infty} \\frac{\\sin(n)}{n}$')\n",
        "plt.xlabel('x')\n",
        "plt.ylabel(r'y')\n",
        "plt.grid(True)\n",
        "plt.show()"
      ],
      "metadata": {
        "colab": {
          "base_uri": "https://localhost:8080/",
          "height": 483
        },
        "id": "k1t5vSunZraD",
        "outputId": "369a65f5-ea23-4176-c9a9-9acc6c2203de"
      },
      "execution_count": 5,
      "outputs": [
        {
          "output_type": "display_data",
          "data": {
            "text/plain": [
              "<Figure size 640x480 with 1 Axes>"
            ],
            "image/png": "[encoded data removed]"
          },
          "metadata": {}
        }
      ]
    },
    {
      "cell_type": "markdown",
      "source": [
        "##### <font color=\"c75400\"> **4.** </font> **Considere la sucesión $a_n=(1+\\frac{1}{n})$, $n=1,2,3,\\dots$**"
      ],
      "metadata": {
        "id": "l1LmqYyTZ3YJ"
      }
    },
    {
      "cell_type": "markdown",
      "source": [
        "######<font color=\"ff862d\"> **a.** </font> Calcule los valores de $a_1,a_2,a_3,a_4,a_5$:"
      ],
      "metadata": {
        "id": "iFbVDbKgaRZG"
      }
    },
    {
      "cell_type": "code",
      "source": [
        "n_valores = [1, 2, 3, 4, 5]\n",
        "sucesion = [(1 + 1/n)**n for n in n_valores]\n",
        "for i in range(len(n_valores)):\n",
        "  print(f\"a_{n_valores[i]} = {sucesion[i]}\")\n"
      ],
      "metadata": {
        "colab": {
          "base_uri": "https://localhost:8080/"
        },
        "id": "fvfmsyWJaf3K",
        "outputId": "b10a6ce4-275b-4f83-8702-aa05a0b4e37f"
      },
      "execution_count": 4,
      "outputs": [
        {
          "output_type": "stream",
          "name": "stdout",
          "text": [
            "a_1 = 2.0\n",
            "a_2 = 2.25\n",
            "a_3 = 2.37037037037037\n",
            "a_4 = 2.44140625\n",
            "a_5 = 2.4883199999999994\n"
          ]
        }
      ]
    },
    {
      "cell_type": "markdown",
      "source": [
        "######<font color=\"ff862d\"> **b.** </font> Calcule los valores de $a_n$ para $n=1,2,3,\\dots,200$."
      ],
      "metadata": {
        "id": "OhXX7iqaazoZ"
      }
    },
    {
      "cell_type": "code",
      "source": [
        "n_valores = np.arange(1, 201)\n",
        "sucesion = (1 + 1/n_valores)**n_valores"
      ],
      "metadata": {
        "id": "Uk6r3xq9bDLq"
      },
      "execution_count": 7,
      "outputs": []
    },
    {
      "cell_type": "markdown",
      "source": [
        "######<font color=\"ff862d\"> **c.** </font> Grafique los puntos $(n,a_n)$ para $n=1,2,3,\\dots,200$. Junto con la línea horizontal $y=e$"
      ],
      "metadata": {
        "id": "iQFFxHEmbGvB"
      }
    },
    {
      "cell_type": "code",
      "source": [
        "e = np.exp(1)\n",
        "\n",
        "plt.plot(n_valores, sucesion, '.', label=r'$a_n = \\left(1 + \\frac{1}{n}\\right)^n$')\n",
        "\n",
        "plt.axhline(y=e, color='r', linestyle='-', label='y = e')\n",
        "\n",
        "plt.xlabel('n')\n",
        "plt.ylabel('a_n')\n",
        "plt.title('Sucesión $a_n$ y la línea y = e')\n",
        "plt.legend()\n",
        "plt.grid(True)\n",
        "plt.show()"
      ],
      "metadata": {
        "colab": {
          "base_uri": "https://localhost:8080/",
          "height": 475
        },
        "id": "t88g7omPbj23",
        "outputId": "e67b68fc-e09e-4be7-9099-2b12de71a0c8"
      },
      "execution_count": 8,
      "outputs": [
        {
          "output_type": "display_data",
          "data": {
            "text/plain": [
              "<Figure size 640x480 with 1 Axes>"
            ],
            "image/png": "[encoded data removed]"
          },
          "metadata": {}
        }
      ]
    },
    {
      "cell_type": "markdown",
      "source": [
        "######<font color=\"ff862d\"> **d.** </font> ¿Es razonable decir que $\\lim_{n\\to \\infty} a_n = e$?\n",
        "> Sí, de acuerdo con la gráfica, vemos que los valores de $a_n$ se acercan a $e$ conforme $n$ aumenta."
      ],
      "metadata": {
        "id": "qAE3BpjxcHu-"
      }
    },
    {
      "cell_type": "markdown",
      "source": [
        "######<font color=\"ff862d\"> **e.** </font> ¿Cuál es el valor más pequeño de $n$ para el cual $a_n>2.7$"
      ],
      "metadata": {
        "id": "DpS9_3EwcVWR"
      }
    },
    {
      "cell_type": "code",
      "source": [
        "n_valores = np.arange(1, 201)\n",
        "sucesion = (1 + 1/n_valores)**n_valores\n",
        "\n",
        "n_2_7 = np.where(sucesion > 2.7)[0][0] + 1  # +1 porque np.where devuelve el índice (empezando en 0)\n",
        "print(f'El valor más pequeño de n para el cual a_n > 2.7 es: {n_2_7}')"
      ],
      "metadata": {
        "colab": {
          "base_uri": "https://localhost:8080/"
        },
        "id": "QkBNMTm7cWra",
        "outputId": "0eedfdb0-fc05-4b8f-8c75-edcba9cee1c7"
      },
      "execution_count": 9,
      "outputs": [
        {
          "output_type": "stream",
          "name": "stdout",
          "text": [
            "El valor más pequeño de n para el cual a_n > 2.7 es: 74\n"
          ]
        }
      ]
    },
    {
      "cell_type": "markdown",
      "source": [
        "######<font color=\"ff862d\"> **f.** </font> ¿Cuál es el primer valor de $n$ para el cual $\\left| a_n -1 \\right|<0.0001$ ?"
      ],
      "metadata": {
        "id": "RvICDcE5cje-"
      }
    },
    {
      "cell_type": "code",
      "source": [
        "n_close_e = np.where(np.abs(sucesion - e) < 0.01)[0][0] + 1\n",
        "print(f'El primer valor de n para el cual |a_n - e| < 0.01 es: {n_close_e}')"
      ],
      "metadata": {
        "colab": {
          "base_uri": "https://localhost:8080/"
        },
        "id": "Gyc-2qT8c7mv",
        "outputId": "24bc0d48-ebbd-4449-8a3d-d9f7538c34a4"
      },
      "execution_count": 11,
      "outputs": [
        {
          "output_type": "stream",
          "name": "stdout",
          "text": [
            "El primer valor de n para el cual |a_n - e| < 0.01 es: 135\n"
          ]
        }
      ]
    },
    {
      "cell_type": "markdown",
      "source": [
        "##### <font color=\"c75400\"> **5.** </font> **Considere la sucesión $a_n=n \\sin(\\frac{1}{n})$ , $n=1,2,3,\\dots$**"
      ],
      "metadata": {
        "id": "H7JzaVi6AbxJ"
      }
    },
    {
      "cell_type": "markdown",
      "source": [
        "######<font color=\"ff862d\"> **a.** </font> Calcule los valores de $a_1,a_2,a_3,a_4,a_5$"
      ],
      "metadata": {
        "id": "beEg0puGBKGO"
      }
    },
    {
      "cell_type": "code",
      "source": [
        "n=[1,2,3,4,5]\n",
        "for i in n:\n",
        "    a=i*np.sin(1/i)\n",
        "    print(f\"n_{i} = \",a)"
      ],
      "metadata": {
        "colab": {
          "base_uri": "https://localhost:8080/"
        },
        "id": "aV3Lj4h7B_xr",
        "outputId": "62c62a4a-33a9-49de-df9f-1e02050ea7c6"
      },
      "execution_count": null,
      "outputs": [
        {
          "output_type": "stream",
          "name": "stdout",
          "text": [
            "n_1 =  0.8414709848078965\n",
            "n_2 =  0.958851077208406\n",
            "n_3 =  0.9815840903884566\n",
            "n_4 =  0.9896158370180917\n",
            "n_5 =  0.9933466539753061\n"
          ]
        }
      ]
    },
    {
      "cell_type": "markdown",
      "source": [
        "######<font color=\"ff862d\"> **b.** </font> Calcule los valores de $a_n$ para $n=1,2,3,\\dots,200$"
      ],
      "metadata": {
        "id": "7pmT0vQ1DcLg"
      }
    },
    {
      "cell_type": "code",
      "source": [
        "n=np.arange(1,201)\n",
        "for i in n:\n",
        "    a=i*np.sin(1/i)"
      ],
      "metadata": {
        "id": "y2uUKPHMDoGE"
      },
      "execution_count": null,
      "outputs": []
    },
    {
      "cell_type": "markdown",
      "source": [
        "######<font color=\"ff862d\"> **c.** </font> Grafique los puntos $(n,a_n)$ para $n=1,2,3,\\dots,200$. Junto con la línea horizontal $y=1$"
      ],
      "metadata": {
        "id": "P8OYtsz5EI5W"
      }
    },
    {
      "cell_type": "code",
      "source": [
        "n=np.arange(1,201)\n",
        "x=np.linspace(1,201,200)\n",
        "def f(x):\n",
        "    return 1\n",
        "for i in n:\n",
        "    a=i*np.sin(1/i)\n",
        "    plt.plot(i,a,'.')\n",
        "y=[f(x) for x in x]\n",
        "\n",
        "plt.plot(x,y,\"-\")\n",
        "plt.grid(True)\n",
        "plt.xlim(0,200)\n",
        "plt.ylim(0.8,1.2)\n",
        "plt.xlabel('n')\n",
        "plt.ylabel('a_n')\n",
        "plt.show()"
      ],
      "metadata": {
        "colab": {
          "base_uri": "https://localhost:8080/",
          "height": 455
        },
        "id": "GyjG4rWRElXi",
        "outputId": "f4b563c6-2738-467b-b9e8-81567f0b6e7d"
      },
      "execution_count": null,
      "outputs": [
        {
          "output_type": "display_data",
          "data": {
            "text/plain": [
              "<Figure size 640x480 with 1 Axes>"
            ],
            "image/png": "[encoded data removed]"
          },
          "metadata": {}
        }
      ]
    },
    {
      "cell_type": "markdown",
      "source": [
        "######<font color=\"ff862d\"> **d.** </font> ¿Es razonable decir que $\\lim_{n\\to \\infty} a_n = 1$?\n",
        "> Sí, de acuerdo con la gráfica, vemos que los valores de $a_n$ se acercan a $0$ conforme $n$ aumenta."
      ],
      "metadata": {
        "id": "uQBqhq2YFaOy"
      }
    },
    {
      "cell_type": "markdown",
      "source": [
        "######<font color=\"ff862d\"> **e.** </font> ¿Cuál es el valor más pequeño de $n$ para el cual $a_n>0.999$"
      ],
      "metadata": {
        "id": "HUKPal2iHpht"
      }
    },
    {
      "cell_type": "code",
      "source": [
        "for i in n:\n",
        "    a=i*np.sin(1/i)\n",
        "    if i<10:\n",
        "      print(\"n = 0\",i,\"\\t\\ta_n= \",a)\n",
        "    else:\n",
        "      print(\"n = \",i,\"\\t\\ta_n= \",a)\n",
        "\n",
        "    if a>0.999:\n",
        "        break\n",
        "print(\"\")\n",
        "print(\"El valor más pequeño de n para el cual a_n es mayor que 0,999 es: \",i)"
      ],
      "metadata": {
        "colab": {
          "base_uri": "https://localhost:8080/"
        },
        "id": "nKUTztXdILYl",
        "outputId": "de41bcb2-52ee-4bcd-f68e-31d6e0fdd907"
      },
      "execution_count": null,
      "outputs": [
        {
          "output_type": "stream",
          "name": "stdout",
          "text": [
            "n = 0 1 \t\ta_n=  0.8414709848078965\n",
            "n = 0 2 \t\ta_n=  0.958851077208406\n",
            "n = 0 3 \t\ta_n=  0.9815840903884566\n",
            "n = 0 4 \t\ta_n=  0.9896158370180917\n",
            "n = 0 5 \t\ta_n=  0.9933466539753061\n",
            "n = 0 6 \t\ta_n=  0.9953767961604901\n",
            "n = 0 7 \t\ta_n=  0.9966021085458455\n",
            "n = 0 8 \t\ta_n=  0.9973978670818215\n",
            "n = 0 9 \t\ta_n=  0.9979436565895768\n",
            "n =  10 \t\ta_n=  0.9983341664682815\n",
            "n =  11 \t\ta_n=  0.998623158597574\n",
            "n =  12 \t\ta_n=  0.9988429944037229\n",
            "n =  13 \t\ta_n=  0.9990140984381753\n",
            "\n",
            "El valor más pequeño de n para el cual a_n es mayor que 0,999 es:  13\n"
          ]
        }
      ]
    },
    {
      "cell_type": "markdown",
      "source": [
        "######<font color=\"ff862d\"> **f.** </font> ¿Cuál es el primer valor de $n$ para el cual $\\left| a_n -1 \\right|<0.0001$ ?"
      ],
      "metadata": {
        "id": "1V2Kd0kTJJZe"
      }
    },
    {
      "cell_type": "code",
      "source": [
        "for i in n:\n",
        "    a=i*np.sin(1/i)\n",
        "\n",
        "    if i<10:\n",
        "      print(\"n = 0\",i,\"\\t\\ta_n= \",a,\"\\t\\t|a_n-1| = \",(a-1)*(-1))\n",
        "    else:\n",
        "      print(\"n = \",i,\"\\t\\ta_n= \",a,\"\\t\\t|a_n-1| = \",(a-1)*(-1))\n",
        "    if abs(a-1)<0.0001:\n",
        "        break\n",
        "print(\"\")\n",
        "print(\"El primer valor de n para el cual |a_n-1| < 0.0001 es: \",i)"
      ],
      "metadata": {
        "colab": {
          "base_uri": "https://localhost:8080/"
        },
        "id": "OFZfB2_vJj6_",
        "outputId": "81474807-3027-4e74-a255-5b5feb142b7e"
      },
      "execution_count": null,
      "outputs": [
        {
          "output_type": "stream",
          "name": "stdout",
          "text": [
            "n = 0 1 \t\ta_n=  0.8414709848078965 \t\t|a_n-1| =  0.1585290151921035\n",
            "n = 0 2 \t\ta_n=  0.958851077208406 \t\t|a_n-1| =  0.04114892279159399\n",
            "n = 0 3 \t\ta_n=  0.9815840903884566 \t\t|a_n-1| =  0.01841590961154338\n",
            "n = 0 4 \t\ta_n=  0.9896158370180917 \t\t|a_n-1| =  0.010384162981908251\n",
            "n = 0 5 \t\ta_n=  0.9933466539753061 \t\t|a_n-1| =  0.006653346024693918\n",
            "n = 0 6 \t\ta_n=  0.9953767961604901 \t\t|a_n-1| =  0.004623203839509871\n",
            "n = 0 7 \t\ta_n=  0.9966021085458455 \t\t|a_n-1| =  0.003397891454154478\n",
            "n = 0 8 \t\ta_n=  0.9973978670818215 \t\t|a_n-1| =  0.002602132918178457\n",
            "n = 0 9 \t\ta_n=  0.9979436565895768 \t\t|a_n-1| =  0.002056343410423156\n",
            "n =  10 \t\ta_n=  0.9983341664682815 \t\t|a_n-1| =  0.0016658335317184525\n",
            "n =  11 \t\ta_n=  0.998623158597574 \t\t|a_n-1| =  0.001376841402425999\n",
            "n =  12 \t\ta_n=  0.9988429944037229 \t\t|a_n-1| =  0.001157005596277072\n",
            "n =  13 \t\ta_n=  0.9990140984381753 \t\t|a_n-1| =  0.0009859015618246536\n",
            "n =  14 \t\ta_n=  0.9991498767611002 \t\t|a_n-1| =  0.0008501232388997693\n",
            "n =  15 \t\ta_n=  0.999259423850895 \t\t|a_n-1| =  0.0007405761491050544\n",
            "n =  16 \t\ta_n=  0.9993490854780832 \t\t|a_n-1| =  0.00065091452191679\n",
            "n =  17 \t\ta_n=  0.9994233984983436 \t\t|a_n-1| =  0.000576601501656393\n",
            "n =  18 \t\ta_n=  0.9994856760852097 \t\t|a_n-1| =  0.0005143239147903378\n",
            "n =  19 \t\ta_n=  0.9995383834233704 \t\t|a_n-1| =  0.00046161657662957545\n",
            "n =  20 \t\ta_n=  0.9995833854135666 \t\t|a_n-1| =  0.00041661458643338367\n",
            "n =  21 \t\ta_n=  0.9996221138974164 \t\t|a_n-1| =  0.0003778861025836022\n",
            "n =  22 \t\ta_n=  0.9996556829547876 \t\t|a_n-1| =  0.0003443170452124278\n",
            "n =  23 \t\ta_n=  0.999684969916101 \t\t|a_n-1| =  0.0003150300838989928\n",
            "n =  24 \t\ta_n=  0.9997106732644581 \t\t|a_n-1| =  0.00028932673554193933\n",
            "n =  25 \t\ta_n=  0.999733354665854 \t\t|a_n-1| =  0.00026664533414599845\n",
            "n =  26 \t\ta_n=  0.9997534699117091 \t\t|a_n-1| =  0.0002465300882908972\n",
            "n =  27 \t\ta_n=  0.9997713919947108 \t\t|a_n-1| =  0.00022860800528923253\n",
            "n =  28 \t\ta_n=  0.9997874285232935 \t\t|a_n-1| =  0.00021257147670650234\n",
            "n =  29 \t\ta_n=  0.9998018350081944 \t\t|a_n-1| =  0.00019816499180558278\n",
            "n =  30 \t\ta_n=  0.9998148251026086 \t\t|a_n-1| =  0.0001851748973914491\n",
            "n =  31 \t\ta_n=  0.9998265785688254 \t\t|a_n-1| =  0.00017342143117460296\n",
            "n =  32 \t\ta_n=  0.9998372475304346 \t\t|a_n-1| =  0.00016275246956543032\n",
            "n =  33 \t\ta_n=  0.9998469614191426 \t\t|a_n-1| =  0.00015303858085735644\n",
            "n =  34 \t\ta_n=  0.9998558309186424 \t\t|a_n-1| =  0.00014416908135761464\n",
            "n =  35 \t\ta_n=  0.999863951131365 \t\t|a_n-1| =  0.0001360488686350525\n",
            "n =  36 \t\ta_n=  0.9998714041383151 \t\t|a_n-1| =  0.00012859586168489923\n",
            "n =  37 \t\ta_n=  0.9998782610813702 \t\t|a_n-1| =  0.00012173891862976571\n",
            "n =  38 \t\ta_n=  0.9998845838672054 \t\t|a_n-1| =  0.00011541613279464347\n",
            "n =  39 \t\ta_n=  0.9998904265694275 \t\t|a_n-1| =  0.00010957343057249602\n",
            "n =  40 \t\ta_n=  0.9998958365884933 \t\t|a_n-1| =  0.00010416341150665254\n",
            "n =  41 \t\ta_n=  0.9999008556160796 \t\t|a_n-1| =  9.914438392044644e-05\n",
            "\n",
            "El primer valor de n para el cual |a_n-1| < 0.0001 es:  41\n"
          ]
        }
      ]
    },
    {
      "cell_type": "markdown",
      "source": [
        "##### <font color=\"c75400\"> **6.** </font> **Considere la sucesión** $a_n=1.01^n$ y $b_n=0.99^n $, para $n=0,1,2,\\dots$"
      ],
      "metadata": {
        "id": "in8J7PlBHbxn"
      }
    },
    {
      "cell_type": "markdown",
      "source": [
        "######<font color=\"ff862d\"> **a.** </font> En el mismo gráfico, pinta los puntos $(n,a_n)$ y $(n,b_n)$ para $n=0,1,2,\\dots,200$"
      ],
      "metadata": {
        "id": "n5Ytxj6hLTRZ"
      }
    },
    {
      "cell_type": "code",
      "source": [
        "an=[]\n",
        "bn=[]\n",
        "n=np.arange(0,201)\n",
        "for i in n:\n",
        "    a=1.01**i\n",
        "    b=0.99**i\n",
        "    an.append(a)\n",
        "    bn.append(b)\n",
        "plt.plot(n,an,'.') #Azul\n",
        "plt.plot(n,bn,'.') #Naranja\n",
        "plt.grid(True)\n",
        "plt.xlabel('n')\n",
        "plt.ylabel('a_n')\n",
        "plt.axvline(x=0,color='black')\n",
        "plt.axhline(y=0,color='black')\n",
        "plt.show()"
      ],
      "metadata": {
        "colab": {
          "base_uri": "https://localhost:8080/",
          "height": 449
        },
        "id": "7Ck5b4I-Luin",
        "outputId": "69222b4b-42b6-4be7-b229-bfd435096007"
      },
      "execution_count": null,
      "outputs": [
        {
          "output_type": "display_data",
          "data": {
            "text/plain": [
              "<Figure size 640x480 with 1 Axes>"
            ],
            "image/png": "[encoded data removed]"
          },
          "metadata": {}
        }
      ]
    },
    {
      "cell_type": "markdown",
      "source": [
        "######<font color=\"ff862d\"> **b.** </font> ¿Cómo se comparan estas dos gráficas?\n",
        "> La gráfica de $a_n$ es creciente. Cuando $n\\to∞$ , $a_n\\to∞$.\n",
        "\n",
        "> La gráfica de $b_n$ es decreciente y tiene una asíntota horizontal en $y=0$. Cuando $n\\to∞$ , $a_n\\to 0$"
      ],
      "metadata": {
        "id": "H4lTP0L_MfXn"
      }
    },
    {
      "cell_type": "markdown",
      "source": [
        "######<font color=\"ff862d\"> **c.** </font> ¿Las sucesiones convergen?\n",
        "> La sucesión $a_n$ **diverge**, conforme $n$ aumenta, los valores de $a_n$ crecen indefinidamente. Mientras que la sucesión $b_n$ **converge**, conforme $n$ aumenta, los valores de $b_n$ se acercan a $0$."
      ],
      "metadata": {
        "id": "ejbrxqS2NmiI"
      }
    },
    {
      "cell_type": "markdown",
      "source": [
        "##### <font color=\"c75400\"> **7.** </font> **Según la sucesión $a_n=\\frac{10n}{n!}$**\n",
        "Para los valores $n=1,2,3,\\dots$, realice:"
      ],
      "metadata": {
        "id": "nbYyuVhkzEzX"
      }
    },
    {
      "cell_type": "markdown",
      "source": [
        "######<font color=\"ff862d\"> **a.** </font> Grafique los puntos $(n,a_n)$ para $n=1,2,3,\\dots,100$"
      ],
      "metadata": {
        "id": "gtEZOrBl1R57"
      }
    },
    {
      "cell_type": "code",
      "source": [
        "x = np.linspace(1, 100, 100)\n",
        "\n",
        "def suc(n):\n",
        "    return (10**n) / mt.factorial(n)\n",
        "\n",
        "a_n = [suc(int(n)) for n in x]\n",
        "\n",
        "plt.plot(x, a_n, '.', label=\"a_n = 10^n / n!\")\n",
        "plt.xlabel('n')\n",
        "plt.ylabel('$a_n$')\n",
        "plt.title('Términos de la sucesión a_n = 10^n / n!')\n",
        "plt.legend()\n",
        "plt.grid(True)\n",
        "plt.show()"
      ],
      "metadata": {
        "colab": {
          "base_uri": "https://localhost:8080/",
          "height": 472
        },
        "id": "Y4ny5O3h10WH",
        "outputId": "9db35c2f-8efc-4608-a071-646595905fe4"
      },
      "execution_count": null,
      "outputs": [
        {
          "output_type": "display_data",
          "data": {
            "text/plain": [
              "<Figure size 640x480 with 1 Axes>"
            ],
            "image/png": "[encoded data removed]"
          },
          "metadata": {}
        }
      ]
    },
    {
      "cell_type": "markdown",
      "source": [
        "######<font color=\"ff862d\"> **b.** </font> De acuerdo con la gráfica, ¿puede definir el valor de $\\lim_{n \\to \\infty} a_n$\n",
        ">A partir de la gráfica, podemos observar que la sucesión $a_n$ primero crece, alcanza un máximo y luego decrece rápidamente hacia $0$ cuando $n$ aumenta. Por lo tanto, podemos decir que:\n",
        "$\\lim_{n \\to \\infty} a_n=0$"
      ],
      "metadata": {
        "id": "xNXvz8S622Jm"
      }
    },
    {
      "cell_type": "markdown",
      "source": [
        "######<font color=\"ff862d\"> **c.** </font> ¿Cuál es el valor máximo de $a_n$ para $n=1,2,3,\\dots,100$ ?"
      ],
      "metadata": {
        "id": "Avj00AqN3wHU"
      }
    },
    {
      "cell_type": "code",
      "source": [
        "valor_max = max(a_n)\n",
        "n_max = a_n.index(valor_max) + 1\n",
        "print(f\"El valor máximo de la sucesión es: {valor_max} y ocurre en n = {n_max}\")"
      ],
      "metadata": {
        "colab": {
          "base_uri": "https://localhost:8080/"
        },
        "id": "U4Bwe9A_4c63",
        "outputId": "59c3b193-d0c5-426f-cd5d-2814f6204b3e"
      },
      "execution_count": null,
      "outputs": [
        {
          "output_type": "stream",
          "name": "stdout",
          "text": [
            "El valor máximo de la sucesión es: 2755.731922398589 y ocurre en n = 9\n"
          ]
        }
      ]
    },
    {
      "cell_type": "markdown",
      "source": [
        "######<font color=\"ff862d\"> **d.** </font> Explique por qué para cualquier constante $k$:\n",
        "$$ \\lim_{n\\to \\infty} \\frac{k^n}{n!} = 0$$\n",
        "\n",
        ">El crecimiento del factorial es más rápido que cualquier crecimiento exponencial de la forma k^n. Por lo tanto, cuando $n$ tiende a infinito, el denominador $(n!)$ crece más rápido que el numerador $(k^n)$, lo que hace que la fracción tienda a 0."
      ],
      "metadata": {
        "id": "rFUeen6-4uJT"
      }
    },
    {
      "cell_type": "markdown",
      "source": [
        "##### <font color=\"c75400\"> **8.** </font> **Considere la sucesión $a_n$ con $a_1=10$**\n",
        "$$a_{n+1}=\\frac{1}{3}a_n$$\n",
        "para $n=1,2,3,\\dots$"
      ],
      "metadata": {
        "id": "lynyEGZW5g1c"
      }
    },
    {
      "cell_type": "markdown",
      "source": [
        "######<font color=\"ff862d\"> **a.** </font> Grafique los puntos $(n,a_n)$ para $n=1,2,3,\\dots,50$"
      ],
      "metadata": {
        "id": "V_VNR0n88K5k"
      }
    },
    {
      "cell_type": "code",
      "source": [
        "n_terminos = 50\n",
        "a = np.zeros(n_terminos)\n",
        "a[0] = 10\n",
        "\n",
        "for n in range(1, n_terminos):\n",
        "    a[n] = (1/3) * a[n-1]\n",
        "\n",
        "n_values = np.arange(1, n_terminos + 1)\n",
        "plt.plot(n_values, a,'o')\n",
        "plt.title('Sucesión con $a_{n+1} = \\\\frac{1}{3} a_n$ y $a_1 = 10$')\n",
        "plt.xlabel('n')\n",
        "plt.ylabel('$a_n$')\n",
        "plt.grid(True)\n",
        "plt.show()"
      ],
      "metadata": {
        "colab": {
          "base_uri": "https://localhost:8080/",
          "height": 477
        },
        "id": "xyNZhog98m4y",
        "outputId": "c8409134-d928-4986-8a1e-f8ceb90e73fd"
      },
      "execution_count": null,
      "outputs": [
        {
          "output_type": "display_data",
          "data": {
            "text/plain": [
              "<Figure size 640x480 with 1 Axes>"
            ],
            "image/png": "[encoded data removed]"
          },
          "metadata": {}
        }
      ]
    },
    {
      "cell_type": "markdown",
      "source": [
        "######<font color=\"ff862d\"> **b.** </font> ¿Cree que esta sucesión tiene límite? Explique su respuesta\n",
        "> El límite de esta sucesión es $0$.\n",
        "Al graficarla, vemos que los valores de $a_n$ se acercan a $0$ conforme $n$ aumenta, lo que visualmente confirma este análisis."
      ],
      "metadata": {
        "id": "tMgXfuT48aTo"
      }
    },
    {
      "cell_type": "markdown",
      "source": [
        "##### <font color=\"c75400\"> **9.** </font> **Considere la sucesión $a_n$ con $a_1=2$**\n",
        "$$a_{n+1}=2a_n$$\n",
        "para $n=1,2,3,\\dots$"
      ],
      "metadata": {
        "id": "_eaGY8cN9564"
      }
    },
    {
      "cell_type": "markdown",
      "source": [
        "######<font color=\"ff862d\"> **a.** </font> Grafique los puntos $(n,a_n)$ para $n=1,2,3,\\dots,50$"
      ],
      "metadata": {
        "id": "RZINTbRg-Jwo"
      }
    },
    {
      "cell_type": "code",
      "source": [
        "n_terminos = 50\n",
        "a = np.zeros(n_terminos)\n",
        "a[0] = 2\n",
        "\n",
        "\n",
        "for n in range(1, n_terminos):\n",
        "    a[n] = 2 * a[n-1]\n",
        "\n",
        "n_values = np.arange(1, n_terminos + 1)\n",
        "plt.plot(n_values, a, 'o')\n",
        "plt.title('Sucesión con $a_{n+1} = 2a_n$ y $a_1 = 2$')\n",
        "plt.xlabel('n')\n",
        "plt.ylabel('$a_n$')\n",
        "plt.grid(True)\n",
        "plt.show()"
      ],
      "metadata": {
        "colab": {
          "base_uri": "https://localhost:8080/",
          "height": 475
        },
        "id": "3HKYU3G9-QRT",
        "outputId": "03e4cb2e-8d28-4aca-c3b9-d999362d4663"
      },
      "execution_count": null,
      "outputs": [
        {
          "output_type": "display_data",
          "data": {
            "text/plain": [
              "<Figure size 640x480 with 1 Axes>"
            ],
            "image/png": "[encoded data removed]"
          },
          "metadata": {}
        }
      ]
    },
    {
      "cell_type": "markdown",
      "source": [
        "######<font color=\"ff862d\"> **b.** </font> ¿Cree que esta sucesión tiene límite? Explique su respuesta\n",
        "> La sucesión no tiene límite, ya que los términos crecen indefinidamente conforme $𝑛$ aumenta."
      ],
      "metadata": {
        "id": "1rdk3fTw-PVX"
      }
    }
  ]
}