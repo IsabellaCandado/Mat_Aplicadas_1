{
  "nbformat": 4,
  "nbformat_minor": 0,
  "metadata": {
    "colab": {
      "provenance": [],
      "authorship_tag": "ABX9TyOBEKEySWsfnHCZWPUpryh9",
      "include_colab_link": true
    },
    "kernelspec": {
      "name": "python3",
      "display_name": "Python 3"
    },
    "language_info": {
      "name": "python"
    }
  },
  "cells": [
    {
      "cell_type": "markdown",
      "metadata": {
        "id": "view-in-github",
        "colab_type": "text"
      },
      "source": [
        "<a href=\"https://colab.research.google.com/github/IsabellaCandado/Mat_Aplicadas_1/blob/main/Taller1.ipynb\" target=\"_parent\"><img src=\"https://colab.research.google.com/assets/colab-badge.svg\" alt=\"Open In Colab\"/></a>"
      ]
    },
    {
      "cell_type": "markdown",
      "source": [
        "# <font color=\"#401D87\">***Taller #1*** </font>"
      ],
      "metadata": {
        "id": "WCbvo70mulcj"
      }
    },
    {
      "cell_type": "markdown",
      "source": [
        "## <font color=\"#6E579E\">**1. Primer punto** </font>"
      ],
      "metadata": {
        "id": "HCrBEUZLtBit"
      }
    },
    {
      "cell_type": "markdown",
      "source": [
        "---\n",
        "<font color=\"#9D84CF\">**1.1.** </font> Resolver los polinomios aritméticos:\n",
        ">* $\\{[3(-5+10-5)]+[-2(-2-4+10)]\\}^2 = 64$"
      ],
      "metadata": {
        "id": "SkohpL6H5jvE"
      }
    },
    {
      "cell_type": "code",
      "source": [
        "ej1_1=int((3*((-5)+10+(-5)))+((-2)*((-2)+(-4)+10))**2)\n",
        "print (ej1_1)"
      ],
      "metadata": {
        "colab": {
          "base_uri": "https://localhost:8080/"
        },
        "id": "oZxdzvU5xYCG",
        "outputId": "a9376d3e-7165-49e3-d1b6-c4ac734bcf4d"
      },
      "execution_count": null,
      "outputs": [
        {
          "output_type": "stream",
          "name": "stdout",
          "text": [
            "64\n"
          ]
        }
      ]
    },
    {
      "cell_type": "markdown",
      "source": [
        ">* $45+[3(2+8)-\\frac{8}{4}]+10-83 = 0$"
      ],
      "metadata": {
        "id": "YIkKP-DS0ibT"
      }
    },
    {
      "cell_type": "code",
      "source": [
        "ej1_2=int(45+((3*(2+8))-(8/4))+10-83)\n",
        "print (ej1_2)"
      ],
      "metadata": {
        "colab": {
          "base_uri": "https://localhost:8080/"
        },
        "id": "bjxFl9Zr1q_5",
        "outputId": "86c48103-18b2-430f-bde1-53b5b6f148cf"
      },
      "execution_count": null,
      "outputs": [
        {
          "output_type": "stream",
          "name": "stdout",
          "text": [
            "0\n"
          ]
        }
      ]
    },
    {
      "cell_type": "markdown",
      "source": [
        ">* $[2(-4+7)-10]*(-4-7-3)= 56$"
      ],
      "metadata": {
        "id": "VhzE8AHV4bd0"
      }
    },
    {
      "cell_type": "code",
      "source": [
        "ej1_3=int(((2*(-4+7))-10)*(-4-7-3))\n",
        "print (ej1_3)"
      ],
      "metadata": {
        "colab": {
          "base_uri": "https://localhost:8080/"
        },
        "id": "JVbPIrli4t1e",
        "outputId": "f335ac2f-1683-47ac-b8b5-b9dcb628e450"
      },
      "execution_count": null,
      "outputs": [
        {
          "output_type": "stream",
          "name": "stdout",
          "text": [
            "56\n"
          ]
        }
      ]
    },
    {
      "cell_type": "markdown",
      "source": [
        "# Nueva sección\n",
        "---\n",
        "\n",
        "<font color=\"#9D84CF\">**1.2.** </font> Resolver las siguientes combinaciones de operaciones:\n",
        "\n",
        ">* $\\frac{1}{5}[(\\frac{1}{2})^2 + (\\frac{3}{4})^2]+\\frac{10}{25}[(\\frac{1}{2})^2+(\\frac{3}{4})^2]+\\frac{8}{40}[(\\frac{1}{2})^2 + (\\frac{3}{4})^2] = 0$"
      ],
      "metadata": {
        "id": "us0jvlmc5SpS"
      }
    },
    {
      "cell_type": "code",
      "source": [
        "ej2_1=int(((1/5)*((1/2)**2 + (3/4)**2))+((2/5)*((1/2)**2 + (3/4)**2))+((1/5)*((1/2)**2 + (3/4)**2)))\n",
        "print (ej2_1)"
      ],
      "metadata": {
        "colab": {
          "base_uri": "https://localhost:8080/"
        },
        "id": "7w9fLwVR6wDf",
        "outputId": "a0be97bc-ef72-4376-c592-86aaadad7fbc"
      },
      "execution_count": null,
      "outputs": [
        {
          "output_type": "stream",
          "name": "stdout",
          "text": [
            "0\n"
          ]
        }
      ]
    },
    {
      "cell_type": "markdown",
      "source": [
        ">* $\\frac{9}{4}(\\frac{6}{8})^{-1}-\\frac{5}{2}(\\frac{25}{20})^{-1}+\\frac{40}{8}(\\frac{20}{16})^{-1} = 5$"
      ],
      "metadata": {
        "id": "1QOlAMdv8Lmm"
      }
    },
    {
      "cell_type": "code",
      "source": [
        "ej2_2=int(((9/4)*(3/4)**-1)-((5/2)*(5/4)**-1)+((5)*(5/4)**-1))\n",
        "print (ej2_2)"
      ],
      "metadata": {
        "colab": {
          "base_uri": "https://localhost:8080/"
        },
        "id": "qHEdYR1J-Opq",
        "outputId": "c362e98e-46ab-4608-c8ff-f9a78af7a13a"
      },
      "execution_count": null,
      "outputs": [
        {
          "output_type": "stream",
          "name": "stdout",
          "text": [
            "5\n"
          ]
        }
      ]
    },
    {
      "cell_type": "markdown",
      "source": [
        "---\n",
        "## <font color=\"#6E579E\">**2. Segundo punto** </font>\n"
      ],
      "metadata": {
        "id": "zzvup8bD_Kar"
      }
    },
    {
      "cell_type": "markdown",
      "source": [
        "<font color=\"#9D84CF\">**2.1.** </font> Despejar la variable indicada en cada una de las siguientes funciones:"
      ],
      "metadata": {
        "id": "YogHOQ_LV9Ey"
      }
    },
    {
      "cell_type": "markdown",
      "source": [
        "|N°|Función|Variable a despejar|Formulas Matemáticas|Función despejada|\n",
        "|--|--|--|--|--|\n",
        "|1|Área de un cilindro|$r$|$A=2πrg$|$r=\\frac{A}{2πg}$|\n",
        "|2|Volumen del cono|$h$|$V=\\frac{A_B*h}{3}$|$h=\\frac{3V}{A_B}$|\n",
        "|3|Volumen de la esfera|$r$|$V=\\frac{4}{3}*π*r^3$|$r=\\sqrt[3]{\\frac{3V}{4π}}$|\n",
        "|4|Área del trapecio|$h$|$A=\\frac{B+b}{2}*h$|$h=\\frac{2A}{B+b}$\n",
        "|5|Intensidad Eléctrica|$t$|$I=\\frac{q}{t}$|$t=\\frac{q}{I}$\n",
        "|6|Ley de Ohm|$R$|$I=\\frac{V}{R}$|$R=\\frac{V}{I}$\n",
        "|7|Energía Eléctrica|$t$|$E=\\frac{V^2}{R}*t$|$t=\\frac{E*R}{V^2}$\n",
        "|8|Resistencias en paralelo|$R$|$\\frac{1}{R}=\\frac{1}{R_1}+\\frac{1}{R_2}$|$R=\\frac{R_1*R_2}{R_1+R_2}$\n",
        "|9|Ecuación gases perfectos|$P_f$|$\\frac{P_0 V_0}{T_0}=\\frac{P_f V_f}{T_f}$|$P_f=\\frac{T_f P_0 V_0}{T_0 V_f}$\n",
        "|10|Intensidad Eléctrica|$V_B$|$I=\\frac{V_A - V_B}{R}$|$V_B=V_A - IR$"
      ],
      "metadata": {
        "id": "ohgRvS0vAWvD"
      }
    },
    {
      "cell_type": "markdown",
      "source": [
        "---\n",
        "<font color=\"#9D84CF\">**2.2.** </font> Prueba con valores aleatorios las siguientes funciones a trozos:"
      ],
      "metadata": {
        "id": "LnrxTvCQV04k"
      }
    },
    {
      "cell_type": "markdown",
      "source": [
        "> $f(x)=\\left\\{\\begin{array}{lcc}x+2 & si & x < -3 \\\\ \\\\ -x & si & -3 \\leq x < 0 \\\\ \\\\ 2 & si & x \\geq 0 \\end{array} \\right.$"
      ],
      "metadata": {
        "id": "o7iukxvQYRJV"
      }
    },
    {
      "cell_type": "code",
      "source": [
        "val1=[-4,-3,-2,-1,0,1]\n",
        "for x in val1:\n",
        "    if x<-3:\n",
        "        print (x+2)\n",
        "    elif -3<=x<0:\n",
        "        print (-x)\n",
        "    else:\n",
        "        print (2)"
      ],
      "metadata": {
        "colab": {
          "base_uri": "https://localhost:8080/"
        },
        "id": "YgDy0Y3YZj7d",
        "outputId": "6683ce37-0153-451c-8402-2ef1cf83dd06"
      },
      "execution_count": null,
      "outputs": [
        {
          "output_type": "stream",
          "name": "stdout",
          "text": [
            "-2\n",
            "3\n",
            "2\n",
            "1\n",
            "2\n",
            "2\n"
          ]
        }
      ]
    },
    {
      "cell_type": "markdown",
      "source": [
        ">$f(x)=\\left\\{\\begin{array}{lcc}a-x^2 & si & x < 0 \\\\ \\\\ 2 & si & 0 \\leq x \\leq 1 \\\\ \\\\ x^2-2x+b & si & x > 1 \\end{array} \\right.$"
      ],
      "metadata": {
        "id": "m-Lgexzsa_M6"
      }
    },
    {
      "cell_type": "code",
      "source": [
        "val2=[-1,0,1,2]\n",
        "a=int(input(\"Ingrese el valor de a: \"))\n",
        "b=int(input(\"Ingrese el valor de b: \"))\n",
        "for x in val2:\n",
        "    if x<0:\n",
        "        print (a-x**2)\n",
        "    elif 0<=x<=1:\n",
        "        print (2)\n",
        "    else:\n",
        "        print (x**2-2*x+b)"
      ],
      "metadata": {
        "colab": {
          "base_uri": "https://localhost:8080/"
        },
        "id": "2fiqMvAFbjJx",
        "outputId": "5f263f85-8214-4f35-ed71-0f0929e0fb80"
      },
      "execution_count": null,
      "outputs": [
        {
          "output_type": "stream",
          "name": "stdout",
          "text": [
            "Ingrese el valor de a: 4\n",
            "Ingrese el valor de b: 8\n",
            "3\n",
            "2\n",
            "2\n",
            "8\n"
          ]
        }
      ]
    },
    {
      "cell_type": "markdown",
      "source": [
        "---\n",
        "## <font color=\"#6E579E\">**3. Tercer punto** </font>\n"
      ],
      "metadata": {
        "id": "pFGLj7aQhoVB"
      }
    },
    {
      "cell_type": "markdown",
      "source": [],
      "metadata": {
        "id": "n3iIV_O0Cxoq"
      }
    }
  ]
}