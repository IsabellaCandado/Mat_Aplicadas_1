{
  "nbformat": 4,
  "nbformat_minor": 0,
  "metadata": {
    "colab": {
      "provenance": [],
      "authorship_tag": "ABX9TyOgO8Se3O94q05q1V3mWhAF",
      "include_colab_link": true
    },
    "kernelspec": {
      "name": "python3",
      "display_name": "Python 3"
    },
    "language_info": {
      "name": "python"
    }
  },
  "cells": [
    {
      "cell_type": "markdown",
      "metadata": {
        "id": "view-in-github",
        "colab_type": "text"
      },
      "source": [
        "<a href=\"https://colab.research.google.com/github/IsabellaCandado/Mat_Aplicadas_1/blob/main/Taller1.ipynb\" target=\"_parent\"><img src=\"https://colab.research.google.com/assets/colab-badge.svg\" alt=\"Open In Colab\"/></a>"
      ]
    },
    {
      "cell_type": "markdown",
      "source": [
        "# <font color=\"02389d\">***Taller #1*** </font>"
      ],
      "metadata": {
        "id": "WCbvo70mulcj"
      }
    },
    {
      "cell_type": "markdown",
      "source": [
        "## <font color=\"6195d0\">*1. Primer punto* </font>"
      ],
      "metadata": {
        "id": "HCrBEUZLtBit"
      }
    },
    {
      "cell_type": "markdown",
      "source": [
        "---\n",
        "1.1. Resolver los polinomios aritméticos:\n",
        "* $\\{[3(-5+10-5)]+[-2(-2-4+10)]\\}^2 = 64$"
      ],
      "metadata": {
        "id": "SkohpL6H5jvE"
      }
    },
    {
      "cell_type": "code",
      "source": [
        "ej1_1=int((3*((-5)+10+(-5)))+((-2)*((-2)+(-4)+10))**2)\n",
        "print (ej1_1)"
      ],
      "metadata": {
        "colab": {
          "base_uri": "https://localhost:8080/"
        },
        "id": "oZxdzvU5xYCG",
        "outputId": "8255ddda-6ad9-4704-e384-0acdc90f3e4f"
      },
      "execution_count": 4,
      "outputs": [
        {
          "output_type": "stream",
          "name": "stdout",
          "text": [
            "64\n"
          ]
        }
      ]
    },
    {
      "cell_type": "code",
      "source": [],
      "metadata": {
        "id": "Ix-qcuJIAhhO"
      },
      "execution_count": null,
      "outputs": []
    },
    {
      "cell_type": "markdown",
      "source": [
        "* $45+[3(2+8)-\\frac{8}{4}]+10-83 = 0$"
      ],
      "metadata": {
        "id": "YIkKP-DS0ibT"
      }
    },
    {
      "cell_type": "code",
      "source": [
        "ej1_2=int(45+((3*(2+8))-(8/4))+10-83)\n",
        "print (ej1_2)"
      ],
      "metadata": {
        "colab": {
          "base_uri": "https://localhost:8080/"
        },
        "id": "bjxFl9Zr1q_5",
        "outputId": "86c48103-18b2-430f-bde1-53b5b6f148cf"
      },
      "execution_count": 5,
      "outputs": [
        {
          "output_type": "stream",
          "name": "stdout",
          "text": [
            "0\n"
          ]
        }
      ]
    },
    {
      "cell_type": "markdown",
      "source": [
        "* $[2(-4+7)-10]*(-4-7-3)= 56$"
      ],
      "metadata": {
        "id": "VhzE8AHV4bd0"
      }
    },
    {
      "cell_type": "code",
      "source": [
        "ej1_3=int(((2*(-4+7))-10)*(-4-7-3))\n",
        "print (ej1_3)"
      ],
      "metadata": {
        "colab": {
          "base_uri": "https://localhost:8080/"
        },
        "id": "JVbPIrli4t1e",
        "outputId": "be15b1bb-dc0a-4928-8549-a997cf7f83a7"
      },
      "execution_count": 6,
      "outputs": [
        {
          "output_type": "stream",
          "name": "stdout",
          "text": [
            "56\n"
          ]
        }
      ]
    },
    {
      "cell_type": "markdown",
      "source": [
        "\n",
        "---\n",
        "\n",
        "1.2. Resolver las siguientes combinaciones de operaciones:\n",
        "\n",
        "* $\\frac{1}{5}[(\\frac{1}{2})^2 + (\\frac{3}{4})^2]+\\frac{10}{25}[(\\frac{1}{2})^2+(\\frac{3}{4})^2]+\\frac{8}{40}[(\\frac{1}{2})^2 + (\\frac{3}{4})^2] = 0$"
      ],
      "metadata": {
        "id": "us0jvlmc5SpS"
      }
    },
    {
      "cell_type": "code",
      "source": [
        "ej2_1=int(((1/5)*((1/2)**2 + (3/4)**2))+((2/5)*((1/2)**2 + (3/4)**2))+((1/5)*((1/2)**2 + (3/4)**2)))\n",
        "print (ej2_1)"
      ],
      "metadata": {
        "colab": {
          "base_uri": "https://localhost:8080/"
        },
        "id": "7w9fLwVR6wDf",
        "outputId": "a0be97bc-ef72-4376-c592-86aaadad7fbc"
      },
      "execution_count": 7,
      "outputs": [
        {
          "output_type": "stream",
          "name": "stdout",
          "text": [
            "0\n"
          ]
        }
      ]
    },
    {
      "cell_type": "markdown",
      "source": [
        "* $\\frac{9}{4}(\\frac{6}{8})^{-1}-\\frac{5}{2}(\\frac{25}{20})^{-1}+\\frac{40}{8}(\\frac{20}{16})^{-1} = 5$"
      ],
      "metadata": {
        "id": "1QOlAMdv8Lmm"
      }
    },
    {
      "cell_type": "code",
      "source": [
        "ej2_2=int(((9/4)*(3/4)**-1)-((5/2)*(5/4)**-1)+((5)*(5/4)**-1))\n",
        "print (ej2_2)"
      ],
      "metadata": {
        "colab": {
          "base_uri": "https://localhost:8080/"
        },
        "id": "qHEdYR1J-Opq",
        "outputId": "c362e98e-46ab-4608-c8ff-f9a78af7a13a"
      },
      "execution_count": 8,
      "outputs": [
        {
          "output_type": "stream",
          "name": "stdout",
          "text": [
            "5\n"
          ]
        }
      ]
    },
    {
      "cell_type": "markdown",
      "source": [
        "## <font color=\"6195d0\">*2. Segundo punto* </font>\n"
      ],
      "metadata": {
        "id": "zzvup8bD_Kar"
      }
    },
    {
      "cell_type": "markdown",
      "source": [],
      "metadata": {
        "id": "ohgRvS0vAWvD"
      }
    }
  ]
}