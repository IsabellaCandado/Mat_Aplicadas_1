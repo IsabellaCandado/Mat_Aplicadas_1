{
  "nbformat": 4,
  "nbformat_minor": 0,
  "metadata": {
    "colab": {
      "provenance": [],
      "authorship_tag": "ABX9TyOz5mypdeBWPTeuaQKCj4pv",
      "include_colab_link": true
    },
    "kernelspec": {
      "name": "python3",
      "display_name": "Python 3"
    },
    "language_info": {
      "name": "python"
    }
  },
  "cells": [
    {
      "cell_type": "markdown",
      "metadata": {
        "id": "view-in-github",
        "colab_type": "text"
      },
      "source": [
        "<a href=\"https://colab.research.google.com/github/IsabellaCandado/Mat_Aplicadas_1/blob/main/CandadoIsabella_A00407979.ipynb\" target=\"_parent\"><img src=\"https://colab.research.google.com/assets/colab-badge.svg\" alt=\"Open In Colab\"/></a>"
      ]
    },
    {
      "cell_type": "code",
      "execution_count": null,
      "metadata": {
        "id": "pUFIDuTgoBTN"
      },
      "outputs": [],
      "source": []
    },
    {
      "cell_type": "markdown",
      "source": [
        "#<font color=\"E9967A\"> ***Autobiografía*** </font>\n",
        "\n",
        "Soy Isabella Candado Conde, tengo 17 años. Nací en la ciudad de Guadalajara de Buga, pero actualmente estoy viviendo en Cali. Mi familia vive en mi ciudad natal y está conformada por mi mamá, papá, hermana menor y abuela. Me gradué de la *IE Narciso Cabal Salcedo* como **Bachiller en Informática** en 2023, experiencia que me permitió encontrar mi pasión y a lo que deseaba dedicarme profesionalmente. Decidí estudiar **Ingeniería en Sistemas**, ya que se alineaba con mis intereses académicos y profesionales. Actualmente curso el segundo semestre de dicha carrera en la *Universidad ICESI*.\n",
        "\n",
        "Para hablar un poco sobre mí, puedo decir que soy una persona muy dedicada con el estudio, es de mis mayores aspiraciones poder destacar académicamente, no por el reconocimiento, sino por el enriquecimiento intelectual que eso conlleva. Suelo ser una persona amable, disfruto ayudar a los demás en lo que requieran, especialmente si se relaciona con temas de estudio. Respecto a mis pasatiempos, me gusta mucho cocinar, bien sea en la cotidianidad o para ocasiones especiales; este espacio me brinda mucha tranquilidad y me permite desconectarme del estrés de la vida diaria. Además, me agrada dibujar y pintar, tocar piano y escuchar diversos estilos musicales, aunque generalmente escucho Rock y Pop en español e inglés.\n",
        "\n",
        "<img src=\n",
        "https://i.pinimg.com/564x/e0/53/05/e05305ef9641ad8f0fcf8d5f8e901375.jpg width=400>\n",
        "\n",
        "###***Canciones favoritas***\n",
        "\n",
        "---------\n",
        ">Nobody\n",
        ">> *Mitski*\n",
        "---------\n",
        ">Amárrame\n",
        ">> *Mon Laferte*\n",
        "---------\n",
        ">La célula que explota\n",
        ">> *Caifanes*\n",
        "---------\n",
        ">Lo malo de ser bueno\n",
        ">> *El cuarteto de Nos*\n",
        "---------\n",
        ">La ciudad de la furia\n",
        ">> *Soda stereo*\n",
        "---------\n",
        "\n",
        "###***Materias favoritas***\n",
        "\n",
        "| Asignatura | Razón |\n",
        "|------------|-------|\n",
        "| Lógica y Argumentación | Es interesante aprender a argumentar de forma correcta, evitando ambiguedades y falacias.      |\n",
        "| Álgebra y Funciones | Las matemáticas son fundamentales para nuestro contexto, así que conocer las bases algebráicas que la fundamentan es vital. |\n",
        "| Fundamentos del derecho | Es un área alejada de mi zona de confort, representó un reto para mí cursar la materia y aprendí muchas cosas de utilidad. |"
      ],
      "metadata": {
        "id": "40EWu7TnoFXI"
      }
    }
  ]
}