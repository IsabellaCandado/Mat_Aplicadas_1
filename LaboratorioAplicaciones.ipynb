{
  "nbformat": 4,
  "nbformat_minor": 0,
  "metadata": {
    "colab": {
      "provenance": [],
      "authorship_tag": "ABX9TyOn2BSdC0B6IeSlxl6KIY3K",
      "include_colab_link": true
    },
    "kernelspec": {
      "name": "python3",
      "display_name": "Python 3"
    },
    "language_info": {
      "name": "python"
    }
  },
  "cells": [
    {
      "cell_type": "markdown",
      "metadata": {
        "id": "view-in-github",
        "colab_type": "text"
      },
      "source": [
        "<a href=\"https://colab.research.google.com/github/IsabellaCandado/Mat_Aplicadas_1/blob/main/LaboratorioAplicaciones.ipynb\" target=\"_parent\"><img src=\"https://colab.research.google.com/assets/colab-badge.svg\" alt=\"Open In Colab\"/></a>"
      ]
    },
    {
      "cell_type": "markdown",
      "source": [
        "## <font color=\"a800b0\">***Laboratorio: Aplicaciones de las derivadas*** </font>\n",
        "*Presentado por: Juan Diego Balanta, Isabella Candado, Edward Estacio y Juan Pablo Martínez*"
      ],
      "metadata": {
        "id": "Olo6SKjzGqGB"
      }
    },
    {
      "cell_type": "code",
      "execution_count": null,
      "metadata": {
        "id": "Qhi65uwvGlwE"
      },
      "outputs": [],
      "source": [
        "import numpy as np\n",
        "import math as mt\n",
        "import sympy as sym\n",
        "import matplotlib.pyplot as plt"
      ]
    },
    {
      "cell_type": "markdown",
      "source": [
        "#### <font color=\"d035d8\"> **1.** </font> **Ejercicios de aplicación**"
      ],
      "metadata": {
        "id": "RBEdEZnRHNiY"
      }
    },
    {
      "cell_type": "markdown",
      "source": [
        "#####<font color=\"e067e6\"> **1.1.** </font> Encuentre las dimensiones del cilindro circular recto de volumen máximo que puede inscribirse en un cono circular recto dado."
      ],
      "metadata": {
        "id": "6eAHJ9VAIg3P"
      }
    },
    {
      "cell_type": "markdown",
      "source": [
        "#####<font color=\"e067e6\"> **1.2.** </font> Suponga que un pez nada río arriba con velocidad relativa al agua  v  y que la corriente del río tiene velocidad  −vc  (el signo negativo indica que la velocidad de la corriente es en dirección opuesta a la del pez). La energía empleada en recorrer una distancia  d  a contracorriente es directamente proporcional al tiempo requerido para recorrer la distancia  d  y el cubo de la velocidad. ¿Qué velocidad  v  minimiza la energía empleada en nadar esta distancia?"
      ],
      "metadata": {
        "id": "GNEY64ixItL2"
      }
    },
    {
      "cell_type": "markdown",
      "source": [
        "#####<font color=\"e067e6\"> **1.3.** </font> Un pasillo de 6 pies de ancho da vuelta en ángulo recto. ¿Cuál es la longitud de la varilla delgada más larga que puede transportarse alrededor de la esquina, suponiendo que la varilla no puede doblarse?"
      ],
      "metadata": {
        "id": "V2QcfFC_IxQI"
      }
    },
    {
      "cell_type": "markdown",
      "source": [
        "#####<font color=\"e067e6\"> **1.4.** </font> Un objeto que se arroja desde el borde de un acantilado de 100 pies, sigue la trayectoria dada por  $ h=\\frac{-x^2}{100}+x+100$.\n",
        "Un observador se encuentra parado a 2 pies del fondo del acantilado.\n",
        "(a) Encuentre la posición del objeto cuando está más cerca del observador.\n",
        "(b) Encuentre la posición del objeto cuando está más lejos del observador."
      ],
      "metadata": {
        "id": "qpuYYEjdI2fN"
      }
    },
    {
      "cell_type": "markdown",
      "source": [
        "#### <font color=\"d035d8\"> **2.** </font> **Ejercicio costo marginal**"
      ],
      "metadata": {
        "id": "KSq-3JssIDGu"
      }
    },
    {
      "cell_type": "markdown",
      "source": [
        "En la fabricación y venta de x unidades de cierto bien de consumo, las funciones de precio $P$ y de costo $C$ (en dólares) están dadas por:\n",
        "\n",
        "$$P(x) = 5.00 - 0.002x$$\n",
        "\n",
        "$$C(x)=3.00 + 1.10x$$\n",
        "\n",
        "Encuentre las expresiones para el ingreso, el costo y la utilidad marginales. Determine el nivel de producción que producirá la máxima utilidad total. Explique con claridad cada proceso.\n"
      ],
      "metadata": {
        "id": "BwwVfFsZJMiv"
      }
    },
    {
      "cell_type": "markdown",
      "source": [
        "#### <font color=\"d035d8\"> **3.** </font> **Ejercicios método de Newton**"
      ],
      "metadata": {
        "id": "qTQPJZrEIHCd"
      }
    },
    {
      "cell_type": "markdown",
      "source": [
        "#####<font color=\"e067e6\"> **3.1.** </font> Para cada una de las siguientes ecuaciones, utilice un gráfico para obtener estimaciones iniciales de las soluciones y luego aplique el método de Newton para localizar las soluciones dentro de 0,0001. Utilice el código.\n"
      ],
      "metadata": {
        "id": "B_xin1PwJYC7"
      }
    },
    {
      "cell_type": "markdown",
      "source": [
        "######<font color=\"f872ff\"> **a.** </font>\n",
        "$x^5-6x^3+2x=2$"
      ],
      "metadata": {
        "id": "ykF69Wo8JnPa"
      }
    },
    {
      "cell_type": "markdown",
      "source": [
        "######<font color=\"f872ff\"> **b.** </font>\n",
        "$senx=x^2$"
      ],
      "metadata": {
        "id": "FDSqa8RoJ_Ag"
      }
    },
    {
      "cell_type": "markdown",
      "source": [
        "######<font color=\"f872ff\"> **c.** </font>\n",
        "$cost=t^2$"
      ],
      "metadata": {
        "id": "nhGrsc7nKCOW"
      }
    },
    {
      "cell_type": "markdown",
      "source": [
        "######<font color=\"f872ff\"> **d.** </font>\n",
        "$2senx=\\sqrt{x+1}$"
      ],
      "metadata": {
        "id": "FrSct_ZbKEmI"
      }
    },
    {
      "cell_type": "markdown",
      "source": [
        "#####<font color=\"e067e6\"> **3.2.** </font> Use Newton’s method to approximate $\\sqrt[3]{2}$ with an error less than 0.00005.  Use $x^n-k=0$"
      ],
      "metadata": {
        "id": "yBgLw6xIKOJK"
      }
    },
    {
      "cell_type": "markdown",
      "source": [
        "#### <font color=\"d035d8\"> **4.** </font> **Gráficas**"
      ],
      "metadata": {
        "id": "cRjQ7RY8IQ87"
      }
    },
    {
      "cell_type": "markdown",
      "source": [
        "#####<font color=\"e067e6\"> **3.1.** </font> Elabore un bosquejo de las gráficas de las siguientes funciones:"
      ],
      "metadata": {
        "id": "BZvR6UHKKiJ_"
      }
    },
    {
      "cell_type": "markdown",
      "source": [
        "######<font color=\"f872ff\"> **a.** </font>\n",
        "$f(x)=\\frac{x}{x+1}$"
      ],
      "metadata": {
        "id": "xecQ32qGLNt1"
      }
    },
    {
      "cell_type": "markdown",
      "source": [
        "######<font color=\"f872ff\"> **b.** </font>\n",
        "$g(x)=\\frac{|x|+x}{2}(3x+2)$"
      ],
      "metadata": {
        "id": "Ehx5-ksRLSd0"
      }
    },
    {
      "cell_type": "markdown",
      "source": [
        "######<font color=\"f872ff\"> **c.** </font>\n",
        "$f(x)=\\frac{x^2}{x^2-1}$"
      ],
      "metadata": {
        "id": "bxRnLlmYLT40"
      }
    },
    {
      "cell_type": "markdown",
      "source": [
        "######<font color=\"f872ff\"> **d.** </font>\n",
        "$h(x)=\\frac{5.235x^3-1.245}{7.126x-3.141}$"
      ],
      "metadata": {
        "id": "OvW6HH59LVai"
      }
    },
    {
      "cell_type": "markdown",
      "source": [
        "#####<font color=\"e067e6\"> **3.2.** </font> Trace el bosquejo de una gráfica que cumpla las siguientes condiciones:\n",
        "\n",
        "* $f$ es continua\n",
        "\n",
        "* $f$ es par\n",
        "\n",
        "* $f(0)=0$, $f(1)=2$\n",
        "\n",
        "* $f'(x)>0$ para $x>0$\n",
        "\n",
        "* $f''(x)>0$, para $x>0$"
      ],
      "metadata": {
        "id": "0O6lbHUZKi_r"
      }
    },
    {
      "cell_type": "markdown",
      "source": [
        "#####<font color=\"e067e6\"> **3.3.** </font> Trace el bosquejo de una gráfica que cumpla las siguientes condiciones:\n",
        "\n",
        "* $f$ es continua en todas partes\n",
        "\n",
        "* $f(2)=-3$ y $f(6)=1$\n",
        "\n",
        "* $f'(2)=0$ para $x\\neq 2$\n",
        "\n",
        "* $f'(6)=3$\n",
        "\n",
        "* $f''(6)=0$; $f''(x)>0$ Para $2<x<6$\n",
        "\n",
        "* $f''(x)<0$ Para $x>6$"
      ],
      "metadata": {
        "id": "Xji-6-RkKjrZ"
      }
    }
  ]
}